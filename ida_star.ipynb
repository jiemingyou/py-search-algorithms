{
 "cells": [
  {
   "cell_type": "code",
   "execution_count": 33,
   "metadata": {},
   "outputs": [],
   "source": [
    "class Graph:\n",
    "    def __init__(self):\n",
    "        self.nodes = dict()\n",
    "        self.edges = dict()\n",
    "        self.heuristic = set()\n",
    "\n",
    "    def __len__(self):\n",
    "        return len(self.nodes)\n",
    "\n",
    "    def __str__(self):\n",
    "        return f\"Nodes: {self.nodes}\\nEdges: {self.edges}\"\n",
    "\n",
    "    def __repr__(self):\n",
    "        return f\"Nodes: {self.nodes}\\nEdges: {self.edges}\"\n",
    "    \n",
    "    def get_heuristic(self, node: str) -> float:\n",
    "        \"\"\"Get the heuristic value of a node.\"\"\"\n",
    "        return self.nodes.get(node, 0)\n",
    "    \n",
    "    def get_cost(self, node1: str, node2: str) -> float:\n",
    "        \"\"\"Get the cost of an edge.\"\"\"\n",
    "        return self.edges.get((node1, node2), 0)\n",
    "\n",
    "    def add_node(self, node: str, h: float) -> None:\n",
    "        \"\"\"Add a node to the network.\"\"\"\n",
    "        self.nodes[node] = h\n",
    "\n",
    "    def add_edge(self, node1: str, node2: str, w: float = 0) -> None:\n",
    "        \"\"\"\n",
    "        Add an directed edge to the network.\n",
    "        node1 -> node2\n",
    "        \"\"\"\n",
    "        self.edges[(node1, node2)] = w\n",
    "\n",
    "    def get_neighbors(self, node: str) -> list:\n",
    "        \"\"\"Get the neighbors of a node.\"\"\"\n",
    "        neighbors = []\n",
    "        for edge in self.edges.keys():\n",
    "            if edge[0] == node:\n",
    "                neighbors.append(edge[1])\n",
    "        return neighbors"
   ]
  },
  {
   "cell_type": "code",
   "execution_count": 40,
   "metadata": {},
   "outputs": [],
   "source": [
    "def ida_star(start: str, end: str, graph: Graph) -> list:\n",
    "    \"\"\"\n",
    "    Iterative deepening A* algorithm.\n",
    "    \"\"\"\n",
    "    path = [start]\n",
    "\n",
    "    def dfs(s: str, e: str, g: float, bound: float, graph: Graph) -> float:\n",
    "        f = g + graph.get_heuristic(s)\n",
    "        if f > bound:\n",
    "            return f\n",
    "        if s == e:\n",
    "            return \"FOUND\"\n",
    "        min = float(\"inf\")\n",
    "        for neighbor in graph.get_neighbors(s):\n",
    "            t = dfs(neighbor, e, g + graph.get_cost(s, neighbor), bound, graph)\n",
    "            if t == \"FOUND\":\n",
    "                path.append(neighbor)\n",
    "                return \"FOUND\"\n",
    "            if t < min:\n",
    "                min = t\n",
    "        return min\n",
    "\n",
    "\n",
    "    bound = graph.get_heuristic(start)\n",
    "    while True:\n",
    "        print(bound)\n",
    "        t = dfs(start, end, 0, bound, graph)\n",
    "        if t == \"FOUND\":\n",
    "            return path\n",
    "        if t == float(\"inf\"):\n",
    "            return \"NOT FOUND\"\n",
    "        bound = t\n",
    "    \n"
   ]
  },
  {
   "cell_type": "code",
   "execution_count": 41,
   "metadata": {},
   "outputs": [],
   "source": [
    "g = Graph()\n",
    "g.add_node(\"A\", 1)\n",
    "g.add_node(\"B\", 2)\n",
    "g.add_node(\"C\", 2)\n",
    "g.add_node(\"D\", 3)\n",
    "g.add_node(\"E\", 0)\n",
    "g.add_edge(\"A\", \"B\", 2)\n",
    "g.add_edge(\"A\", \"C\", 3)\n",
    "g.add_edge(\"B\", \"D\", 3)\n",
    "g.add_edge(\"C\", \"E\", 3)\n"
   ]
  },
  {
   "cell_type": "code",
   "execution_count": 42,
   "metadata": {},
   "outputs": [
    {
     "name": "stdout",
     "output_type": "stream",
     "text": [
      "1\n",
      "4\n",
      "5\n",
      "6\n"
     ]
    },
    {
     "data": {
      "text/plain": [
       "['A', 'E', 'C']"
      ]
     },
     "execution_count": 42,
     "metadata": {},
     "output_type": "execute_result"
    }
   ],
   "source": [
    "ida_star(\"A\", \"E\", g)"
   ]
  },
  {
   "cell_type": "code",
   "execution_count": null,
   "metadata": {},
   "outputs": [],
   "source": []
  }
 ],
 "metadata": {
  "kernelspec": {
   "display_name": "ray",
   "language": "python",
   "name": "python3"
  },
  "language_info": {
   "codemirror_mode": {
    "name": "ipython",
    "version": 3
   },
   "file_extension": ".py",
   "mimetype": "text/x-python",
   "name": "python",
   "nbconvert_exporter": "python",
   "pygments_lexer": "ipython3",
   "version": "3.10.13"
  }
 },
 "nbformat": 4,
 "nbformat_minor": 2
}
